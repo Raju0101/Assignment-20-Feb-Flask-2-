{
 "cells": [
  {
   "cell_type": "markdown",
   "id": "295c357d-1299-454a-8db3-28e20e115d0f",
   "metadata": {},
   "source": [
    "# Assignment 20 Feb , \"Flask-2\""
   ]
  },
  {
   "cell_type": "code",
   "execution_count": 5,
   "id": "a8568013-942e-4f1d-87df-b2e4d0849873",
   "metadata": {},
   "outputs": [],
   "source": [
    "# Q1. Explain GET and POST methods."
   ]
  },
  {
   "cell_type": "code",
   "execution_count": 4,
   "id": "35a14384-97b1-4294-9678-a6f71c6424ca",
   "metadata": {},
   "outputs": [],
   "source": [
    "# In GET method we can not send large amount of data rather limited data is sent because the request parameter\n",
    "# is appended into the URL. In POST method large amount of data can be sent because\n",
    "# the request parameter is appended into the body.\n",
    "\n",
    "# GET method:-\n",
    "# The GET method refers to a HyperText Transfer Protocol (HTTP) method that is applied while requesting information\n",
    "# from a particular source. It is also used to get a specific variable derived from a group. The HTTP POST asks for input of \n",
    "# information from the supplying browser into the server's message system.\n",
    "\n",
    "# POST method:-\n",
    "# POST is used to send data to a server to create/update a resource. The data sent to the server with POST\n",
    "# is stored in the request body of the HTTP request: POST /test/demo_form.php HTTP/1.1."
   ]
  },
  {
   "cell_type": "code",
   "execution_count": null,
   "id": "1efff373-7f0f-4013-870c-557365bb14e8",
   "metadata": {},
   "outputs": [],
   "source": []
  },
  {
   "cell_type": "code",
   "execution_count": 6,
   "id": "1c66fc29-f006-4a1d-907c-aa80dc79ccb2",
   "metadata": {},
   "outputs": [],
   "source": [
    "# Q2. Why is request used in Flask?"
   ]
  },
  {
   "cell_type": "code",
   "execution_count": 7,
   "id": "164dafd4-3268-4b95-8e69-715c97490164",
   "metadata": {},
   "outputs": [],
   "source": [
    "# The Request, in Flask, is an object that contains all the data sent from the Client to Server.\n",
    "# This data can be recovered using the GET/POST Methods.\n",
    "\n",
    "# When the Flask application handles a request, it creates a Request object based on the environment\n",
    "# it received from the WSGI server. Because a worker (thread, process, or coroutine depending on the server) \n",
    "# handles only one request at a time, the request data can be considered global to that worker during that request."
   ]
  },
  {
   "cell_type": "code",
   "execution_count": null,
   "id": "9fb7b578-b46a-4891-9a66-7c62d805ba3a",
   "metadata": {},
   "outputs": [],
   "source": []
  },
  {
   "cell_type": "code",
   "execution_count": 8,
   "id": "62166d2d-e3b9-4c83-8312-812af8f4c128",
   "metadata": {},
   "outputs": [],
   "source": [
    "# Q3. Why is redirect() used in Flask?"
   ]
  },
  {
   "cell_type": "code",
   "execution_count": 9,
   "id": "fa5f14a0-5a0f-4f2f-9c7d-43286ae54182",
   "metadata": {},
   "outputs": [],
   "source": [
    "# Flask class has a redirect() function. When called, it returns a response object and redirects the user to\n",
    "# another target location with specified status code. location parameter is the URL where response should be redirected."
   ]
  },
  {
   "cell_type": "code",
   "execution_count": null,
   "id": "fd3e9949-e45f-4e0c-a113-409510740695",
   "metadata": {},
   "outputs": [],
   "source": []
  },
  {
   "cell_type": "code",
   "execution_count": 10,
   "id": "02eeb3ec-53a0-4813-afde-7900cbe1a37e",
   "metadata": {},
   "outputs": [],
   "source": [
    "# Q4. What are templates in Flask? Why is the render_template() function used?"
   ]
  },
  {
   "cell_type": "code",
   "execution_count": 11,
   "id": "fb6306d3-b47a-4591-a393-9df26f9e1c85",
   "metadata": {},
   "outputs": [],
   "source": [
    "# Templates are files that contain static data as well as placeholders for dynamic data. \n",
    "# A template is rendered with specific data to produce a final document. Flask uses the Jinja template \n",
    "# library to render templates. In our application, we will use templates to render HTML which will display in the user's browser.\n"
   ]
  },
  {
   "cell_type": "code",
   "execution_count": null,
   "id": "f42096f8-1492-4b06-a6f0-621db2b6b97e",
   "metadata": {},
   "outputs": [],
   "source": []
  },
  {
   "cell_type": "code",
   "execution_count": null,
   "id": "f91655d6-d2c6-4248-b3af-f300213120e9",
   "metadata": {},
   "outputs": [],
   "source": [
    "# "
   ]
  }
 ],
 "metadata": {
  "kernelspec": {
   "display_name": "Python 3 (ipykernel)",
   "language": "python",
   "name": "python3"
  },
  "language_info": {
   "codemirror_mode": {
    "name": "ipython",
    "version": 3
   },
   "file_extension": ".py",
   "mimetype": "text/x-python",
   "name": "python",
   "nbconvert_exporter": "python",
   "pygments_lexer": "ipython3",
   "version": "3.10.8"
  }
 },
 "nbformat": 4,
 "nbformat_minor": 5
}
